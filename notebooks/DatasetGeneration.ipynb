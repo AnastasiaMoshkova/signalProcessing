{
 "cells": [
  {
   "cell_type": "code",
   "execution_count": null,
   "id": "30891716-b4f2-44e3-ab46-eabdabfbe8ee",
   "metadata": {},
   "outputs": [],
   "source": [
    "import matplotlib.pyplot as plt\n",
    "import numpy as np\n",
    "import random\n",
    "configs = [{'target':0, 'min':5, 'max':8, 'number':100},{'target':1, 'min':8, 'max':15, 'number':100},{'target':2, 'min':15, 'max':20, 'number':100},{'target':3, 'min':20, 'max':25, 'number':100}]\n",
    "def datasetGenerator(configs):\n",
    "    df = pd.DataFrame(columns = range(0,1600))\n",
    "    df['target'] = np.NaN\n",
    "    df['number'] = np.NaN\n",
    "    df['split'] = np.NaN\n",
    "    counter = 0\n",
    "    for k in range(len(configs)):\n",
    "        for i in range(configs[k]['number']):\n",
    "            cycles = random.randint(configs[k]['min'], configs[k]['max']) # how many sine cycles\n",
    "            resolution = 1600 # how many datapoints to generate\n",
    "            n = random.randint(10, 40)\n",
    "            length = np.pi * 2 * cycles\n",
    "            my_wave = n*np.sin(np.arange(0, length, length / resolution))\n",
    "            noise = np.random.normal(0,random.randint(0, 8),1600)\n",
    "            signal = my_wave[0:1600]+noise[0:1600]+np.abs(np.min(my_wave[0:1600]+noise[0:1600]))\n",
    "            df.loc[counter,0:1599] = signal\n",
    "            df.loc[counter,'target'] = configs[k]['target']\n",
    "            df.loc[counter,'number'] = cycles\n",
    "            split = np.random.choice(['trian', 'val', 'test'], p=[0.7, 0.2, 0.1])\n",
    "            df.loc[counter,'split'] = split\n",
    "            counter = counter+1\n",
    "            #plt.plot(signal)\n",
    "    return df\n",
    "datasetGenerator(configs)"
   ]
  }
 ],
 "metadata": {
  "kernelspec": {
   "display_name": "Python 3 (ipykernel)",
   "language": "python",
   "name": "python3"
  },
  "language_info": {
   "codemirror_mode": {
    "name": "ipython",
    "version": 3
   },
   "file_extension": ".py",
   "mimetype": "text/x-python",
   "name": "python",
   "nbconvert_exporter": "python",
   "pygments_lexer": "ipython3",
   "version": "3.10.11"
  }
 },
 "nbformat": 4,
 "nbformat_minor": 5
}
